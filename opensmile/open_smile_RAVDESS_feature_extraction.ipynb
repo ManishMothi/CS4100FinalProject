{
 "cells": [
  {
   "cell_type": "code",
   "execution_count": 4,
   "metadata": {},
   "outputs": [],
   "source": [
    "import opensmile\n",
    "import pandas as pd\n",
    "import os"
   ]
  },
  {
   "cell_type": "code",
   "execution_count": 2,
   "metadata": {},
   "outputs": [],
   "source": [
    "# Paths\n",
    "dataset_dir = \"C:\\\\repos\\\\CS4100FinalProject\\\\opensmile\\\\Audio_Speech_Actors_01-24\"  # Adjust the path to where your RAVDESS dataset is located\n",
    "output_csv = \"ravdess_features.csv\"   "
   ]
  },
  {
   "cell_type": "code",
   "execution_count": 3,
   "metadata": {},
   "outputs": [],
   "source": [
    "# Initialize the OpenSMILE feature extractor\n",
    "smile = opensmile.Smile(\n",
    "    feature_set=opensmile.FeatureSet.eGeMAPSv02,\n",
    "    feature_level=opensmile.FeatureLevel.Functionals\n",
    ")\n",
    "# # Extract features from an audio file\n",
    "# # audio_path = \"C:\\\\repos\\\\CS4100FinalProject\\\\opensmile\\\\Catching-Fire.wav\"\n",
    "# audio_path = \"C:\\\\repos\\\\CS4100FinalProject\\\\opensmile\\\\Audio_Speech_Actors_01-24\\\\Actor_01\\\\03-01-01-01-01-01-01.wav\"\n",
    "\n",
    "# features = smile.process_file(audio_path)\n",
    "\n",
    "# # Print extracted features\n",
    "# print(features.head())\n",
    "\n",
    "# # create a csv for all the features of the training data"
   ]
  },
  {
   "cell_type": "code",
   "execution_count": 4,
   "metadata": {},
   "outputs": [],
   "source": [
    "# Emotion Mapping (as per RAVDESS filename convention)\n",
    "emotion_map = {\n",
    "    \"01\": \"neutral\",\n",
    "    \"02\": \"calm\",\n",
    "    \"03\": \"happy\",\n",
    "    \"04\": \"sad\",\n",
    "    \"05\": \"angry\",\n",
    "    \"06\": \"fearful\",\n",
    "    \"07\": \"disgust\",\n",
    "    \"08\": \"surprised\"\n",
    "}"
   ]
  },
  {
   "cell_type": "code",
   "execution_count": 8,
   "metadata": {},
   "outputs": [],
   "source": [
    "# List to store feature data\n",
    "data = []"
   ]
  },
  {
   "cell_type": "code",
   "execution_count": 9,
   "metadata": {},
   "outputs": [],
   "source": [
    "# Iterate through all audio files in the dataset directory\n",
    "for root, _, files in os.walk(dataset_dir):\n",
    "    for filename in files:\n",
    "        if filename.endswith(\".wav\"):\n",
    "            # Extract emotion label from the filename\n",
    "            parts = filename.split(\"-\")\n",
    "            emotion_code = parts[2]  # Third part of the filename\n",
    "            emotion_label = emotion_map.get(emotion_code, \"unknown\")\n",
    "\n",
    "            # Path to the audio file\n",
    "            file_path = os.path.join(root, filename)\n",
    "\n",
    "            # Extract features using OpenSMILE\n",
    "            features = smile.process_file(file_path)\n",
    "\n",
    "            # Add emotion label and filename to the features\n",
    "            features[\"emotion\"] = emotion_label\n",
    "            features[\"filename\"] = filename\n",
    "\n",
    "            # Append to the list\n",
    "            data.append(features)"
   ]
  },
  {
   "cell_type": "code",
   "execution_count": 10,
   "metadata": {},
   "outputs": [],
   "source": [
    "# Create a DataFrame from the list of features\n",
    "features_df = pd.concat(data, ignore_index=True)"
   ]
  },
  {
   "cell_type": "code",
   "execution_count": 11,
   "metadata": {},
   "outputs": [
    {
     "name": "stdout",
     "output_type": "stream",
     "text": [
      "Feature extraction completed and saved to ravdess_features.csv\n"
     ]
    }
   ],
   "source": [
    "# Save the DataFrame to a CSV file\n",
    "features_df.to_csv(output_csv, index=False)\n",
    "print(f\"Feature extraction completed and saved to {output_csv}\")"
   ]
  },
  {
   "cell_type": "code",
   "execution_count": 12,
   "metadata": {},
   "outputs": [
    {
     "name": "stdout",
     "output_type": "stream",
     "text": [
      "   F0semitoneFrom27.5Hz_sma3nz_amean  F0semitoneFrom27.5Hz_sma3nz_stddevNorm  \\\n",
      "0                          24.263884                                0.104171   \n",
      "1                          25.167889                                0.103561   \n",
      "2                          24.186604                                0.103495   \n",
      "3                          24.268760                                0.096042   \n",
      "4                          24.898132                                0.117897   \n",
      "\n",
      "   F0semitoneFrom27.5Hz_sma3nz_percentile20.0  \\\n",
      "0                                   21.653511   \n",
      "1                                   23.178247   \n",
      "2                                   22.353912   \n",
      "3                                   22.443832   \n",
      "4                                   22.419266   \n",
      "\n",
      "   F0semitoneFrom27.5Hz_sma3nz_percentile50.0  \\\n",
      "0                                   23.907380   \n",
      "1                                   25.003677   \n",
      "2                                   23.728384   \n",
      "3                                   24.478970   \n",
      "4                                   24.678062   \n",
      "\n",
      "   F0semitoneFrom27.5Hz_sma3nz_percentile80.0  \\\n",
      "0                                   27.101028   \n",
      "1                                   27.699860   \n",
      "2                                   27.093287   \n",
      "3                                   26.744179   \n",
      "4                                   28.138033   \n",
      "\n",
      "   F0semitoneFrom27.5Hz_sma3nz_pctlrange0-2  \\\n",
      "0                                  5.447517   \n",
      "1                                  4.521612   \n",
      "2                                  4.739374   \n",
      "3                                  4.300346   \n",
      "4                                  5.718767   \n",
      "\n",
      "   F0semitoneFrom27.5Hz_sma3nz_meanRisingSlope  \\\n",
      "0                                   104.436584   \n",
      "1                                    56.695114   \n",
      "2                                   209.152560   \n",
      "3                                   159.005050   \n",
      "4                                   214.876070   \n",
      "\n",
      "   F0semitoneFrom27.5Hz_sma3nz_stddevRisingSlope  \\\n",
      "0                                     113.437210   \n",
      "1                                      18.043581   \n",
      "2                                     255.810780   \n",
      "3                                     128.233870   \n",
      "4                                     234.977680   \n",
      "\n",
      "   F0semitoneFrom27.5Hz_sma3nz_meanFallingSlope  \\\n",
      "0                                     31.389978   \n",
      "1                                      9.703053   \n",
      "2                                     13.067563   \n",
      "3                                     31.331654   \n",
      "4                                     32.979195   \n",
      "\n",
      "   F0semitoneFrom27.5Hz_sma3nz_stddevFallingSlope  ...  \\\n",
      "0                                        8.258454  ...   \n",
      "1                                        9.479507  ...   \n",
      "2                                       11.153259  ...   \n",
      "3                                       10.120683  ...   \n",
      "4                                       25.259748  ...   \n",
      "\n",
      "   spectralFluxUV_sma3nz_amean  loudnessPeaksPerSec  VoicedSegmentsPerSec  \\\n",
      "0                     0.005713             2.127660              0.925926   \n",
      "1                     0.005434             2.409639              1.223242   \n",
      "2                     0.007729             2.153846              0.630915   \n",
      "3                     0.008324             2.222222              0.977199   \n",
      "4                     0.007934             2.840909              1.440922   \n",
      "\n",
      "   MeanVoicedSegmentLengthSec  StddevVoicedSegmentLengthSec  \\\n",
      "0                    0.336667                      0.226912   \n",
      "1                    0.257500                      0.089826   \n",
      "2                    0.545000                      0.175000   \n",
      "3                    0.333333                      0.267374   \n",
      "4                    0.182000                      0.116172   \n",
      "\n",
      "   MeanUnvoicedSegmentLength  StddevUnvoicedSegmentLength  \\\n",
      "0                   0.540000                     0.480260   \n",
      "1                   0.535000                     0.485206   \n",
      "2                   0.676667                     0.414836   \n",
      "3                   0.500000                     0.445702   \n",
      "4                   0.408333                     0.441717   \n",
      "\n",
      "   equivalentSoundLevel_dBp  emotion                  filename  \n",
      "0                -47.939644  neutral  03-01-01-01-01-01-01.wav  \n",
      "1                -47.342330  neutral  03-01-01-01-01-02-01.wav  \n",
      "2                -45.849762  neutral  03-01-01-01-02-01-01.wav  \n",
      "3                -46.193146  neutral  03-01-01-01-02-02-01.wav  \n",
      "4                -50.563885     calm  03-01-02-01-01-01-01.wav  \n",
      "\n",
      "[5 rows x 90 columns]\n"
     ]
    }
   ],
   "source": [
    "df = pd.read_csv(\"ravdess_features.csv\")\n",
    "\n",
    "# Display the first few rows of the DataFrame\n",
    "print(df.head())"
   ]
  }
 ],
 "metadata": {
  "kernelspec": {
   "display_name": "Python 3",
   "language": "python",
   "name": "python3"
  },
  "language_info": {
   "codemirror_mode": {
    "name": "ipython",
    "version": 3
   },
   "file_extension": ".py",
   "mimetype": "text/x-python",
   "name": "python",
   "nbconvert_exporter": "python",
   "pygments_lexer": "ipython3",
   "version": "3.9.12"
  }
 },
 "nbformat": 4,
 "nbformat_minor": 2
}
